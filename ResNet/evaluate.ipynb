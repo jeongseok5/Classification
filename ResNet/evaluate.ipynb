{
  "nbformat": 4,
  "nbformat_minor": 0,
  "metadata": {
    "colab": {
      "name": "evaluate.ipynb",
      "provenance": [],
      "collapsed_sections": [],
      "authorship_tag": "ABX9TyMK+7QBYd3/jejYmwL5yreC"
    },
    "kernelspec": {
      "name": "python3",
      "display_name": "Python 3"
    },
    "language_info": {
      "name": "python"
    },
    "accelerator": "GPU",
    "gpuClass": "standard"
  },
  "cells": [
    {
      "cell_type": "code",
      "execution_count": null,
      "metadata": {
        "id": "OejtU2yHXA3d"
      },
      "outputs": [],
      "source": [
        "import time\n",
        "import torch\n",
        "import torch.nn as nn\n",
        "\n",
        "device = torch.device('cuda:0' if torch.cuda.is_available() else 'cpu')\n",
        "loss_func = nn.CrossEntropyLoss().to(device)\n",
        "\n",
        "\n",
        "def evaluate(model, test_loader, device, loss_func):\n",
        "    correct, total = 0, 0\n",
        "    \n",
        "    start = time.time()\n",
        "    model.eval()\n",
        "    with torch.no_grad():\n",
        "\n",
        "        batch_loss, batch_acc = 0, 0\n",
        "        for image, label in test_loader:\n",
        "            x = image.to(device)\n",
        "            y = label.to(device)\n",
        "            \n",
        "            output = model.forward(x)\n",
        "            _, output_index = torch.max(output, 1)\n",
        "\n",
        "            total += label.size(0)\n",
        "            correct += (output_index==y).sum().float()\n",
        "        \n",
        "    print('Accuracy of Test Data: {}'.format(correct / total * 100))\n",
        "\n",
        "\n"
      ]
    },
    {
      "cell_type": "markdown",
      "source": [
        "- test 파일명으로는 Colab에서의 다른 예약어와 겹쳐 사용 불가"
      ],
      "metadata": {
        "id": "6bhm-IbV44bi"
      }
    }
  ]
}