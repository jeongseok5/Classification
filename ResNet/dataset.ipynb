{
  "nbformat": 4,
  "nbformat_minor": 0,
  "metadata": {
    "colab": {
      "name": "dataset.ipynb",
      "provenance": [],
      "collapsed_sections": [],
      "authorship_tag": "ABX9TyPxLY1xYPw0Jw/iYkR1nf3W"
    },
    "kernelspec": {
      "name": "python3",
      "display_name": "Python 3"
    },
    "language_info": {
      "name": "python"
    }
  },
  "cells": [
    {
      "cell_type": "markdown",
      "source": [
        "### Custom dataset & Data load"
      ],
      "metadata": {
        "id": "LtR-Zk7h0DiJ"
      }
    },
    {
      "cell_type": "code",
      "source": [
        "from torch.utils.data import Dataset, DataLoader\n",
        "from glob import glob\n",
        "from PIL import Image"
      ],
      "metadata": {
        "id": "ee0pitDVirCc"
      },
      "execution_count": null,
      "outputs": []
    },
    {
      "cell_type": "code",
      "source": [
        "class PizzaDataset(Dataset):\n",
        "    def __init__(self, path, subset, transforms=None):\n",
        "        assert subset in ('train', 'val', 'test')\n",
        "        self.pizza_files = glob(path+subset+'/pizza/*.jpg')\n",
        "        self.not_pizza_files = glob(path+subset+'/not_pizza/*.jpg')\n",
        "        self.transforms = transforms\n",
        "        self.images = self.not_pizza_files + self.pizza_files\n",
        "        self.labels = [0]*len(self.not_pizza_files) + [1]*len(self.pizza_files)\n",
        "    \n",
        "    def __len__(self):\n",
        "        return len(self.images)\n",
        "    \n",
        "    def __getitem__(self, idx):\n",
        "        images = Image.open(self.images[idx]).convert('RGB').convert('RGB')\n",
        "        labels = self.labels[idx]\n",
        "        path = Image.open(self.images[idx]).convert('RGB').filename\n",
        "        if self.transforms is not None:\n",
        "            images = self.transforms(images)\n",
        "        return images, labels, path\n",
        "\n",
        "\n",
        "def pizza_data_load(path, transforms, batch_size):\n",
        "    \n",
        "    train_loader = DataLoader(\n",
        "        PizzaDataset(path=path, subset='train', transforms=transforms),\n",
        "        batch_size=batch_size,\n",
        "        shuffle=True,\n",
        "        drop_last=False,\n",
        "    )\n",
        "    \n",
        "    valid_loader = DataLoader(\n",
        "        PizzaDataset(path=path, subset='val', transforms=transforms),\n",
        "        batch_size=batch_size,\n",
        "        shuffle=True,\n",
        "        drop_last=False,\n",
        "    )\n",
        "\n",
        "    test_loader = DataLoader(\n",
        "        PizzaDataset(path=path, subset='test', transforms=transforms),\n",
        "        batch_size=batch_size,\n",
        "        shuffle=True,\n",
        "        drop_last=False,\n",
        "    )\n",
        "    return train_loader, valid_loader, test_loader"
      ],
      "metadata": {
        "id": "61lt6vFX5WZJ",
        "colab": {
          "base_uri": "https://localhost:8080/",
          "height": 248
        },
        "outputId": "e1364476-a9a7-4f6f-c029-93ff6eeba34d"
      },
      "execution_count": null,
      "outputs": [
        {
          "output_type": "error",
          "ename": "NameError",
          "evalue": "ignored",
          "traceback": [
            "\u001b[0;31m---------------------------------------------------------------------------\u001b[0m",
            "\u001b[0;31mNameError\u001b[0m                                 Traceback (most recent call last)",
            "\u001b[0;32m<ipython-input-1-856671aee655>\u001b[0m in \u001b[0;36m<module>\u001b[0;34m\u001b[0m\n\u001b[0;32m----> 1\u001b[0;31m \u001b[0;32mclass\u001b[0m \u001b[0mPizzaDataset\u001b[0m\u001b[0;34m(\u001b[0m\u001b[0mDataset\u001b[0m\u001b[0;34m)\u001b[0m\u001b[0;34m:\u001b[0m\u001b[0;34m\u001b[0m\u001b[0;34m\u001b[0m\u001b[0m\n\u001b[0m\u001b[1;32m      2\u001b[0m     \u001b[0;32mdef\u001b[0m \u001b[0m__init__\u001b[0m\u001b[0;34m(\u001b[0m\u001b[0mself\u001b[0m\u001b[0;34m,\u001b[0m \u001b[0mpath\u001b[0m\u001b[0;34m,\u001b[0m \u001b[0msubset\u001b[0m\u001b[0;34m,\u001b[0m \u001b[0mtransforms\u001b[0m\u001b[0;34m=\u001b[0m\u001b[0;32mNone\u001b[0m\u001b[0;34m)\u001b[0m\u001b[0;34m:\u001b[0m\u001b[0;34m\u001b[0m\u001b[0;34m\u001b[0m\u001b[0m\n\u001b[1;32m      3\u001b[0m         \u001b[0;32massert\u001b[0m \u001b[0msubset\u001b[0m \u001b[0;32min\u001b[0m \u001b[0;34m(\u001b[0m\u001b[0;34m'train'\u001b[0m\u001b[0;34m,\u001b[0m \u001b[0;34m'val'\u001b[0m\u001b[0;34m,\u001b[0m \u001b[0;34m'test'\u001b[0m\u001b[0;34m)\u001b[0m\u001b[0;34m\u001b[0m\u001b[0;34m\u001b[0m\u001b[0m\n\u001b[1;32m      4\u001b[0m         \u001b[0mself\u001b[0m\u001b[0;34m.\u001b[0m\u001b[0mpizza_files\u001b[0m \u001b[0;34m=\u001b[0m \u001b[0mglob\u001b[0m\u001b[0;34m(\u001b[0m\u001b[0mpath\u001b[0m\u001b[0;34m+\u001b[0m\u001b[0msubset\u001b[0m\u001b[0;34m+\u001b[0m\u001b[0;34m'/pizza/*.jpg'\u001b[0m\u001b[0;34m)\u001b[0m\u001b[0;34m\u001b[0m\u001b[0;34m\u001b[0m\u001b[0m\n\u001b[1;32m      5\u001b[0m         \u001b[0mself\u001b[0m\u001b[0;34m.\u001b[0m\u001b[0mnot_pizza_files\u001b[0m \u001b[0;34m=\u001b[0m \u001b[0mglob\u001b[0m\u001b[0;34m(\u001b[0m\u001b[0mpath\u001b[0m\u001b[0;34m+\u001b[0m\u001b[0msubset\u001b[0m\u001b[0;34m+\u001b[0m\u001b[0;34m'/not_pizza/*.jpg'\u001b[0m\u001b[0;34m)\u001b[0m\u001b[0;34m\u001b[0m\u001b[0;34m\u001b[0m\u001b[0m\n",
            "\u001b[0;31mNameError\u001b[0m: name 'Dataset' is not defined"
          ]
        }
      ]
    }
  ]
}