{
  "nbformat": 4,
  "nbformat_minor": 0,
  "metadata": {
    "colab": {
      "name": "dataset.ipynb",
      "provenance": [],
      "collapsed_sections": [],
      "authorship_tag": "ABX9TyOcx33g42iW550oViBFfkB/"
    },
    "kernelspec": {
      "name": "python3",
      "display_name": "Python 3"
    },
    "language_info": {
      "name": "python"
    }
  },
  "cells": [
    {
      "cell_type": "markdown",
      "source": [
        "### Custom dataset & Data load"
      ],
      "metadata": {
        "id": "LtR-Zk7h0DiJ"
      }
    },
    {
      "cell_type": "code",
      "source": [
        "from torch.utils.data import Dataset, DataLoader\n",
        "from glob import glob\n",
        "from PIL import Image"
      ],
      "metadata": {
        "id": "ee0pitDVirCc"
      },
      "execution_count": 1,
      "outputs": []
    },
    {
      "cell_type": "code",
      "source": [
        "class PizzaDataset(Dataset):\n",
        "    def __init__(self, path, subset, transforms=None):\n",
        "        assert subset in ('train', 'val', 'test')\n",
        "        self.pizza_files = glob(path+subset+'/pizza/*.jpg')\n",
        "        self.not_pizza_files = glob(path+subset+'/not_pizza/*.jpg')\n",
        "        self.transforms = transforms\n",
        "        self.images = self.not_pizza_files + self.pizza_files\n",
        "        self.labels = [0]*len(self.not_pizza_files) + [1]*len(self.pizza_files)\n",
        "    \n",
        "    def __len__(self):\n",
        "        return len(self.images)\n",
        "    \n",
        "    def __getitem__(self, idx):\n",
        "        images = Image.open(self.images[idx]).convert('RGB')\n",
        "        labels = self.labels[idx]\n",
        "        if self.transforms is not None:\n",
        "            images = self.transforms(images)\n",
        "        return images, labels\n",
        "\n",
        "    def getfilename(self, idx):\n",
        "        filename = Image.open(self.images[idx]).filename.split('/')[-1]\n",
        "        return filename\n",
        "\n",
        "\n",
        "def pizza_data_load(path, transforms, batch_size):\n",
        "    \n",
        "    train_loader = DataLoader(\n",
        "        PizzaDataset(path=path, subset='train', transforms=transforms),\n",
        "        batch_size=batch_size,\n",
        "        shuffle=True,\n",
        "        drop_last=False,\n",
        "    )\n",
        "    \n",
        "    valid_loader = DataLoader(\n",
        "        PizzaDataset(path=path, subset='val', transforms=transforms),\n",
        "        batch_size=batch_size,\n",
        "        shuffle=True,\n",
        "        drop_last=False,\n",
        "    )\n",
        "\n",
        "    test_loader = DataLoader(\n",
        "        PizzaDataset(path=path, subset='test', transforms=transforms),\n",
        "        batch_size=batch_size,\n",
        "        shuffle=True,\n",
        "        drop_last=False,\n",
        "    )\n",
        "    return train_loader, valid_loader, test_loader"
      ],
      "metadata": {
        "id": "61lt6vFX5WZJ"
      },
      "execution_count": 2,
      "outputs": []
    }
  ]
}