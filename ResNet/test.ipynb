{
  "nbformat": 4,
  "nbformat_minor": 0,
  "metadata": {
    "colab": {
      "name": "test.ipynb",
      "provenance": [],
      "collapsed_sections": [],
      "authorship_tag": "ABX9TyNioIm2TJKFe9pcOgAiN43J"
    },
    "kernelspec": {
      "name": "python3",
      "display_name": "Python 3"
    },
    "language_info": {
      "name": "python"
    },
    "accelerator": "GPU",
    "gpuClass": "standard"
  },
  "cells": [
    {
      "cell_type": "code",
      "execution_count": 2,
      "metadata": {
        "id": "OejtU2yHXA3d"
      },
      "outputs": [],
      "source": [
        "import time\n",
        "import torch\n",
        "import torch.nn as nn\n",
        "\n",
        "device = torch.device('cuda:0' if torch.cuda.is_available() else 'cpu')\n",
        "loss_func = nn.CrossEntropyLoss().to(device)\n",
        "\n",
        "\n",
        "def test(model, test_loader, device, loss_func):\n",
        "    correct, total = 0, 0\n",
        "    \n",
        "    start = time.time()\n",
        "    model.eval()\n",
        "    with torch.no_grad():\n",
        "\n",
        "        batch_loss, batch_acc = 0, 0\n",
        "        for image, label in test_loader:\n",
        "            x = image.to(device)\n",
        "            y = label.to(device)\n",
        "            \n",
        "            output = model.forward(x)\n",
        "            _, output_index = torch.max(output, 1)\n",
        "\n",
        "            total += label.size(0)\n",
        "            correct += (output_index==y).sum().float()\n",
        "        \n",
        "    print('Accuracy of Test Data: {}'.format(correct / total * 100))\n",
        "\n",
        "\n"
      ]
    }
  ]
}